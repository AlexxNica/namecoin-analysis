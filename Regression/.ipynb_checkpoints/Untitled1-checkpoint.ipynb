{
 "metadata": {
  "name": "",
  "signature": "sha256:99c5047687bc552dd942e5f512ee728090a0aa1463f30ff991e5e8bc11206a44"
 },
 "nbformat": 3,
 "nbformat_minor": 0,
 "worksheets": [
  {
   "cells": [
    {
     "cell_type": "code",
     "collapsed": false,
     "input": [
      "import pickle\n",
      "from nameHistory import getMaxHeight, latestValueDNSFields\n",
      "from common import getDictSubset, alexaRanks\n",
      "from csv import DictReader\n",
      "from nltk.corpus import wordnet\n",
      "\n",
      "from sklearn.linear_model import ElasticNet\n",
      "\n",
      "from sklearn.metrics import roc_auc_score as AUC\n",
      "from sklearn.cross_validation import train_test_split, cross_val_score\n",
      "from sklearn.feature_selection import SelectKBest\n",
      "from sklearn.feature_selection import f_regression\n",
      "\n",
      "from segment_string import SegmentString\n",
      "from collections import Counter\n",
      "from itertools import product\n",
      "from nltk.util import ngrams"
     ],
     "language": "python",
     "metadata": {},
     "outputs": [],
     "prompt_number": 28
    },
    {
     "cell_type": "code",
     "collapsed": false,
     "input": [
      "def rankByFunc(nameDict, nameRecordValue, higherIsBetter):\n",
      "    nameRawValues = {name:nameRecordValue(nameDict[name]) for name in nameDict}\n",
      "\n",
      "    nameRanks = {}\n",
      "\n",
      "    rank = 1\n",
      "\n",
      "    prevUpdates = None\n",
      "\n",
      "    for (name, value) in sorted(nameRawValues.items(), key=lambda x: x[1], reverse=higherIsBetter):\n",
      "        if prevUpdates and (value < prevUpdates) is higherIsBetter:\n",
      "            rank = len(nameRanks) + 1\n",
      "        prevUpdates = value\n",
      "        nameRanks[name] = rank\n",
      "    return nameRanks"
     ],
     "language": "python",
     "metadata": {},
     "outputs": [],
     "prompt_number": 2
    },
    {
     "cell_type": "code",
     "collapsed": false,
     "input": [
      "def rankNumberOfValueChanges(nameDict, max_height):\n",
      "    return rankByFunc(nameDict, lambda record: record.numberOfValueChanges(), True)\n",
      "\n",
      "def rankIsAlive(nameDict, maxHeight):\n",
      "    return rankByFunc(nameDict, lambda record: int(record.isValidAtHeight(maxHeight)), True)\n",
      "\n",
      "def rankJSONDict(nameDict, maxHeight):\n",
      "    return rankByFunc(nameDict,\n",
      "               lambda record: int(record.latestValueJsonDict() is not None),\n",
      "               True)\n",
      "\n",
      "def rankValidDNSDict(nameDict, max_height):\n",
      "    return rankByFunc(nameDict,\n",
      "               lambda record: int(len(latestValueDNSFields(record, nameDict)) > 0),\n",
      "               True)\n",
      "\n",
      "def rankByTimeActive(nameDict, maxHeight):\n",
      "    return rankByFunc(nameDict,\n",
      "                      lambda record: record.fractionRegistered(maxHeight),\n",
      "                      True)\n",
      "\n",
      "def rankByJesusGap(nameDict, maxHeight):\n",
      "    return rankByFunc(nameDict,\n",
      "                      lambda record: record.reregistrationGap(maxHeight),\n",
      "                      False)"
     ],
     "language": "python",
     "metadata": {},
     "outputs": [],
     "prompt_number": 8
    },
    {
     "cell_type": "code",
     "collapsed": false,
     "input": [
      "def price(ranks, maxRank):\n",
      "    totalPrice = 0\n",
      "    for rank in ranks:\n",
      "        totalPrice += ((maxRank - rank) / maxRank)\n",
      "    return totalPrice"
     ],
     "language": "python",
     "metadata": {},
     "outputs": [],
     "prompt_number": 4
    },
    {
     "cell_type": "code",
     "collapsed": false,
     "input": [
      "with open(\"../nameDict.dat\", \"rb\") as name_file:\n",
      "    nameDict = pickle.load(name_file)\n",
      "\n",
      "bitNames = getDictSubset(nameDict, lambda record: record.namespace() == \"d\")\n",
      "max_height = getMaxHeight(nameDict)"
     ],
     "language": "python",
     "metadata": {},
     "outputs": [],
     "prompt_number": 5
    },
    {
     "cell_type": "code",
     "collapsed": false,
     "input": [
      "dotBitAlexa = alexaRanks()\n",
      "dirtyWords = [word.strip() for word in open('dirty.txt', 'r') if \" \" not in word]\n",
      "dictWords = set([word.strip() for word in open('/usr/share/dict/words', 'r')])\n",
      "bitWordList = set([\"coin\", \"satoshi\", \"wallet\", \"crypto\", \"currency\", \"btc\", \"nmc\", \"blockchain\"])\n",
      "with open(\"name_lists/surnames.csv\", \"r\") as surnames_file:\n",
      "    reader = DictReader(surnames_file)\n",
      "    surnamesSet = set(line[\"name\"].lower() for line in reader)"
     ],
     "language": "python",
     "metadata": {},
     "outputs": [],
     "prompt_number": 6
    },
    {
     "cell_type": "code",
     "collapsed": false,
     "input": [
      "valueChangeRank = rankNumberOfValueChanges(bitNames, max_height)\n",
      "aliveRank = rankIsAlive(bitNames, max_height)\n",
      "validJSONRank = rankJSONDict(bitNames, max_height)\n",
      "validDNSRank = rankValidDNSDict(bitNames, max_height)\n",
      "timeActiveRank = rankByTimeActive(bitNames, max_height)\n",
      "jesusGapRank = rankByJesusGap(bitNames, max_height)"
     ],
     "language": "python",
     "metadata": {},
     "outputs": [],
     "prompt_number": 9
    },
    {
     "cell_type": "code",
     "collapsed": false,
     "input": [
      "maxRank = len(bitNames)\n",
      "xData = []\n",
      "yData = []\n",
      "for name in bitNames:\n",
      "    yData.append(price([valueChangeRank[name], aliveRank[name], validJSONRank[name], validDNSRank[name], timeActiveRank[name], jesusGapRank[name]], maxRank))\n",
      "#     features = []\n",
      "    features = [\n",
      "        dotBitAlexa[name],                                                                  # alexaRank\n",
      "        int(len(wordnet.synsets(name[2:])) >= 1) + 1,                                       # inDict\n",
      "        int(any(dirtyWord in name.lower() for dirtyWord in dirtyWords)) + 1,                # inDirty\n",
      "        int(set(name[2:]).issubset(set(\"0123456789\"))) + 1,                                 # isNumber\n",
      "        len(name),                                                                          # length\n",
      "        int(any(word in name.lower() for word in bitWordList) or name.startswith(\"d/bit\")) + 1, # coinRelated\n",
      "        int(set(name[2:]).issubset(set(\"abcdefghijklmnopqrstuvwxyz\"))) + 1,\n",
      "        SegmentString().string_segments(name[2:])\n",
      "    ]\n",
      "    chars = 'abcdefghijklmnopqrstuvwxyz1234567890'\n",
      "    bigramCounts = Counter(ngrams(name, 2))\n",
      "    for bigram in product(chars, chars):\n",
      "        features.append(bigramCounts[bigram])\n",
      "#     letterCounts = Counter(name)\n",
      "#     for char in 'chars':\n",
      "#         features.append(letterCounts[char])\n",
      "#     features.append(dotBitAlexa[name])\n",
      "#     features.append(SegmentString().string_segments(name[2:]))\n",
      "#     features.append(int(len(wordnet.synsets(name[2:])) >= 1))\n",
      "#     features.append(int(any(word in name.lower() for word in bitWordList) or name.startswith(\"d/bit\")))\n",
      "    \n",
      "    xData.append(features)"
     ],
     "language": "python",
     "metadata": {},
     "outputs": [],
     "prompt_number": 29
    },
    {
     "cell_type": "code",
     "collapsed": false,
     "input": [
      "from sklearn.linear_model import LinearRegression\n",
      "reg = LinearRegression()\n",
      "score = cross_val_score(reg, xData, yData, scoring='r2')\n",
      "print(score)"
     ],
     "language": "python",
     "metadata": {},
     "outputs": [
      {
       "output_type": "stream",
       "stream": "stdout",
       "text": [
        "[ 0.20004263  0.19565909  0.18128456]\n"
       ]
      }
     ],
     "prompt_number": 30
    },
    {
     "cell_type": "code",
     "collapsed": false,
     "input": [
      "from sklearn.linear_model import Ridge\n",
      "reg = Ridge()\n",
      "score = cross_val_score(reg, xData, yData, scoring='r2')\n",
      "print(score)"
     ],
     "language": "python",
     "metadata": {},
     "outputs": [
      {
       "output_type": "stream",
       "stream": "stdout",
       "text": [
        "[ 0.20101302  0.19672923  0.18215473]\n"
       ]
      }
     ],
     "prompt_number": 31
    },
    {
     "cell_type": "code",
     "collapsed": false,
     "input": [],
     "language": "python",
     "metadata": {},
     "outputs": []
    }
   ],
   "metadata": {}
  }
 ]
}