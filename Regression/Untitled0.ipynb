{
 "metadata": {
  "name": "",
  "signature": "sha256:84405ab9137ffa721062e9daa68a78bc5312f84635bc397c9a12481c6ac258e0"
 },
 "nbformat": 3,
 "nbformat_minor": 0,
 "worksheets": [
  {
   "cells": [
    {
     "cell_type": "code",
     "collapsed": false,
     "input": [
      "from common import *"
     ],
     "language": "python",
     "metadata": {},
     "outputs": [],
     "prompt_number": 1
    },
    {
     "cell_type": "code",
     "collapsed": false,
     "input": [
      "from sklearn.feature_extraction import DictVectorizer as DV\n",
      "from sklearn.svm import SVC\n",
      "from sklearn.ensemble import RandomForestClassifier as RF\n",
      "from sklearn.metrics import roc_auc_score as AUC\n",
      "from sklearn.cross_validation import train_test_split\n",
      "from sklearn import naive_bayes\n",
      "import numpy as np\n",
      "from nltk.corpus import wordnet\n",
      "from csv import DictReader\n",
      "from segment_string import SegmentString"
     ],
     "language": "python",
     "metadata": {},
     "outputs": [],
     "prompt_number": 2
    },
    {
     "cell_type": "code",
     "collapsed": false,
     "input": [
      "nameDict = load_object(\"nameDict.dat\")"
     ],
     "language": "python",
     "metadata": {},
     "outputs": [],
     "prompt_number": 3
    },
    {
     "cell_type": "code",
     "collapsed": false,
     "input": [
      "def getMaxHeight(nameDict):\n",
      "    maxHeight = 0\n",
      "    for name in nameDict:\n",
      "        maxHeight = max(maxHeight, nameDict[name].latestOp().height)\n",
      "    return maxHeight"
     ],
     "language": "python",
     "metadata": {},
     "outputs": [],
     "prompt_number": 4
    },
    {
     "cell_type": "code",
     "collapsed": false,
     "input": [
      "maxHeight = getMaxHeight(nameDict)\n",
      "bitNames = getDictSubset(nameDict, lambda record: record.namespace() == \"d\")\n",
      "\n",
      "dotBitAlexa = alexaRanks()\n",
      "dirtyWords = [word.strip() for word in open('dirty.txt', 'r') if \" \" not in word]\n",
      "dictWords = set([word.strip() for word in open('/usr/share/dict/words', 'r')])\n",
      "bitWordList = set([\"coin\", \"satoshi\", \"wallet\", \"crypto\", \"currency\", \"btc\", \"nmc\", \"blockchain\"])\n",
      "with open(\"name_lists/surnames.csv\", \"r\") as surnames_file:\n",
      "        reader = DictReader(surnames_file)\n",
      "        surnamesSet = set(line[\"name\"].lower() for line in reader)"
     ],
     "language": "python",
     "metadata": {},
     "outputs": [],
     "prompt_number": 5
    },
    {
     "cell_type": "code",
     "collapsed": false,
     "input": [
      "feature_names = np.array([\"alexaRank\", \"inDict\", \"inDirty\", \"isNumber\", \"length\", \"coinRelated\", \"sessionCount\", \"latestValueJson\", \"latestSessionLength\", \"lettersOnly\", \"gtOps2\", \"gtOps3\", \"wordCount\"])"
     ],
     "language": "python",
     "metadata": {},
     "outputs": [],
     "prompt_number": 6
    },
    {
     "cell_type": "code",
     "collapsed": false,
     "input": [
      "xData = []\n",
      "yData = []\n",
      "for name in bitNames:\n",
      "    xData.append([\n",
      "        int(dotBitAlexa[name]) + 1,                                                       # alexaRank\n",
      "        int(len(wordnet.synsets(name[2:])) >= 1) + 1,                                       # inDict\n",
      "        int(any(dirtyWord in name.lower() for dirtyWord in dirtyWords)) + 1,                # inDirty\n",
      "        int(set(name[2:]).issubset(set(\"0123456789\"))) + 1,                                 # isNumber\n",
      "        len(name),                                                                          # length\n",
      "        int(any(word in name.lower() for word in bitWordList) or name.startswith(\"d/bit\")) + 1, # coinRelated\n",
      "        len(bitNames[name].sessions),\n",
      "        int(bitNames[name].latestValueJsonDict() != None) + 1,\n",
      "        len(bitNames[name].sessions[-1].ops),\n",
      "        int(set(name[2:]).issubset(set(\"abcdefghijklmnopqrstuvwxyz\"))) + 1,\n",
      "        int(len(bitNames[name].sessions[-1].ops) > 2),\n",
      "        int(len(bitNames[name].sessions[-1].ops) > 3),\n",
      "        SegmentString().string_segments(name[2:])\n",
      "    ])\n",
      "    yData.append(int(bitNames[name].isValidAtHeight(maxHeight)))"
     ],
     "language": "python",
     "metadata": {},
     "outputs": [],
     "prompt_number": 7
    },
    {
     "cell_type": "code",
     "collapsed": false,
     "input": [
      "x_train, x_test, y_train, y_test = train_test_split(xData, yData, test_size=.10, random_state=33)"
     ],
     "language": "python",
     "metadata": {},
     "outputs": [],
     "prompt_number": 8
    },
    {
     "cell_type": "code",
     "collapsed": false,
     "input": [
      "rf = RF(n_estimators=100, max_features='auto', n_jobs=1, random_state=76, verbose=1)\n",
      "rf = rf.fit(x_train, y_train)"
     ],
     "language": "python",
     "metadata": {},
     "outputs": [
      {
       "output_type": "stream",
       "stream": "stderr",
       "text": [
        "[Parallel(n_jobs=1)]: Done   1 jobs       | elapsed:   18.6s\n",
        "[Parallel(n_jobs=1)]: Done   1 out of   1 | elapsed:   18.6s finished\n"
       ]
      }
     ],
     "prompt_number": 9
    },
    {
     "cell_type": "code",
     "collapsed": false,
     "input": [
      "importances = rf.feature_importances_\n",
      "print(feature_names)\n",
      "print(importances)\n",
      "important_names = feature_names[importances > np.mean(importances)]\n",
      "print(important_names)"
     ],
     "language": "python",
     "metadata": {},
     "outputs": [
      {
       "output_type": "stream",
       "stream": "stdout",
       "text": [
        "['alexaRank' 'inDict' 'inDirty' 'isNumber' 'length' 'coinRelated'\n",
        " 'sessionCount' 'latestValueJson' 'latestSessionLength' 'lettersOnly'\n",
        " 'gtOps2' 'gtOps3' 'wordCount']\n",
        "[ 0.20520006  0.01033701  0.00515488  0.01131236  0.13412054  0.05724354\n",
        "  0.21772233  0.04867658  0.12915619  0.0283205   0.07168391  0.0456243\n",
        "  0.03544781]\n",
        "['alexaRank' 'length' 'sessionCount' 'latestSessionLength']\n"
       ]
      }
     ],
     "prompt_number": 10
    },
    {
     "cell_type": "code",
     "collapsed": false,
     "input": [
      "p = rf.predict_proba(x_test)\n",
      "AUC(y_test, p[:,1])"
     ],
     "language": "python",
     "metadata": {},
     "outputs": [
      {
       "output_type": "stream",
       "stream": "stderr",
       "text": [
        "[Parallel(n_jobs=1)]: Done   1 jobs       | elapsed:    0.5s\n",
        "[Parallel(n_jobs=1)]: Done   1 out of   1 | elapsed:    0.5s finished\n"
       ]
      },
      {
       "metadata": {},
       "output_type": "pyout",
       "prompt_number": 11,
       "text": [
        "0.90762838429634973"
       ]
      }
     ],
     "prompt_number": 11
    },
    {
     "cell_type": "code",
     "collapsed": false,
     "input": [
      "rf.predict_proba(x_test)"
     ],
     "language": "python",
     "metadata": {},
     "outputs": []
    },
    {
     "cell_type": "code",
     "collapsed": false,
     "input": [
      "mnb = naive_bayes.MultinomialNB()\n",
      "mnb.fit(x_train, y_train)\n",
      "print(\"Accuracy\", mnb.score(x_test, y_test))"
     ],
     "language": "python",
     "metadata": {},
     "outputs": [
      {
       "output_type": "stream",
       "stream": "stdout",
       "text": [
        "Accuracy 0.373406783323\n"
       ]
      }
     ],
     "prompt_number": 12
    },
    {
     "cell_type": "code",
     "collapsed": false,
     "input": [
      "from sklearn import svm\n",
      "clf = svm.SVC()\n",
      "clf.fit(x_train, y_train)\n",
      "clf.predict(x_test, y_test)"
     ],
     "language": "python",
     "metadata": {},
     "outputs": [
      {
       "ename": "TypeError",
       "evalue": "predict() takes 2 positional arguments but 3 were given",
       "output_type": "pyerr",
       "traceback": [
        "\u001b[0;31m---------------------------------------------------------------------------\u001b[0m\n\u001b[0;31mTypeError\u001b[0m                                 Traceback (most recent call last)",
        "\u001b[0;32m<ipython-input-13-798720e5c168>\u001b[0m in \u001b[0;36m<module>\u001b[0;34m()\u001b[0m\n\u001b[1;32m      2\u001b[0m \u001b[0mclf\u001b[0m \u001b[0;34m=\u001b[0m \u001b[0msvm\u001b[0m\u001b[0;34m.\u001b[0m\u001b[0mSVC\u001b[0m\u001b[0;34m(\u001b[0m\u001b[0;34m)\u001b[0m\u001b[0;34m\u001b[0m\u001b[0m\n\u001b[1;32m      3\u001b[0m \u001b[0mclf\u001b[0m\u001b[0;34m.\u001b[0m\u001b[0mfit\u001b[0m\u001b[0;34m(\u001b[0m\u001b[0mx_train\u001b[0m\u001b[0;34m,\u001b[0m \u001b[0my_train\u001b[0m\u001b[0;34m)\u001b[0m\u001b[0;34m\u001b[0m\u001b[0m\n\u001b[0;32m----> 4\u001b[0;31m \u001b[0mclf\u001b[0m\u001b[0;34m.\u001b[0m\u001b[0mpredict\u001b[0m\u001b[0;34m(\u001b[0m\u001b[0mx_test\u001b[0m\u001b[0;34m,\u001b[0m \u001b[0my_test\u001b[0m\u001b[0;34m)\u001b[0m\u001b[0;34m\u001b[0m\u001b[0m\n\u001b[0m",
        "\u001b[0;31mTypeError\u001b[0m: predict() takes 2 positional arguments but 3 were given"
       ]
      }
     ],
     "prompt_number": 13
    },
    {
     "cell_type": "code",
     "collapsed": false,
     "input": [
      "clf.support_vectors_\n",
      "clf.support_\n",
      "clf.n_support_"
     ],
     "language": "python",
     "metadata": {},
     "outputs": []
    }
   ],
   "metadata": {}
  }
 ]
}