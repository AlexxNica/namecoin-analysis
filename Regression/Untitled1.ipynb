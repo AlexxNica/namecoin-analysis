{
 "metadata": {
  "name": "",
  "signature": "sha256:818e1dd53bdd7164fcd81a6ab44a776297b5e69f3549e5d71e31ba64544011b2"
 },
 "nbformat": 3,
 "nbformat_minor": 0,
 "worksheets": [
  {
   "cells": [
    {
     "cell_type": "code",
     "collapsed": false,
     "input": [
      "%matplotlib inline\n",
      "import pickle\n",
      "from nameHistory import getMaxHeight, latestValueDNSFields\n",
      "from common import getDictSubset, alexaRanks\n",
      "from csv import DictReader\n",
      "from nltk.corpus import wordnet\n",
      "\n",
      "from sklearn.linear_model import ElasticNet\n",
      "\n",
      "from sklearn.metrics import roc_auc_score as AUC\n",
      "from sklearn.cross_validation import train_test_split, cross_val_score\n",
      "from sklearn.feature_selection import SelectKBest\n",
      "from sklearn.feature_selection import f_regression\n",
      "\n",
      "from segment_string import SegmentString\n",
      "from collections import Counter\n",
      "from itertools import product\n",
      "from nltk.util import ngrams\n",
      "\n",
      "import matplotlib.pyplot as plt"
     ],
     "language": "python",
     "metadata": {},
     "outputs": [],
     "prompt_number": 17
    },
    {
     "cell_type": "code",
     "collapsed": false,
     "input": [
      "def rankByFunc(nameDict, nameRecordValue, higherIsBetter):\n",
      "    nameRawValues = {name:nameRecordValue(nameDict[name]) for name in nameDict}\n",
      "\n",
      "    nameRanks = {}\n",
      "\n",
      "    rank = 1\n",
      "\n",
      "    prevUpdates = None\n",
      "\n",
      "    for (name, value) in sorted(nameRawValues.items(), key=lambda x: x[1], reverse=higherIsBetter):\n",
      "        if prevUpdates and (value < prevUpdates) is higherIsBetter:\n",
      "            rank = len(nameRanks) + 1\n",
      "        prevUpdates = value\n",
      "        nameRanks[name] = rank\n",
      "    return nameRanks"
     ],
     "language": "python",
     "metadata": {},
     "outputs": [],
     "prompt_number": 2
    },
    {
     "cell_type": "code",
     "collapsed": false,
     "input": [
      "def rankNumberOfValueChanges(nameDict, max_height):\n",
      "    return rankByFunc(nameDict, lambda record: record.numberOfValueChanges(), True)\n",
      "\n",
      "def rankIsAlive(nameDict, maxHeight):\n",
      "    return rankByFunc(nameDict, lambda record: int(record.isValidAtHeight(maxHeight)), True)\n",
      "\n",
      "def rankJSONDict(nameDict, maxHeight):\n",
      "    return rankByFunc(nameDict,\n",
      "               lambda record: int(record.latestValueJsonDict() is not None),\n",
      "               True)\n",
      "\n",
      "def rankValidDNSDict(nameDict, max_height):\n",
      "    return rankByFunc(nameDict,\n",
      "               lambda record: int(len(latestValueDNSFields(record, nameDict)) > 0),\n",
      "               True)\n",
      "\n",
      "def rankByTimeActive(nameDict, maxHeight):\n",
      "    return rankByFunc(nameDict,\n",
      "                      lambda record: record.fractionRegistered(maxHeight),\n",
      "                      True)\n",
      "\n",
      "def rankByJesusGap(nameDict, maxHeight):\n",
      "    return rankByFunc(nameDict,\n",
      "                      lambda record: record.reregistrationGap(maxHeight),\n",
      "                      False)"
     ],
     "language": "python",
     "metadata": {},
     "outputs": [],
     "prompt_number": 3
    },
    {
     "cell_type": "code",
     "collapsed": false,
     "input": [
      "def price(ranks, maxRank):\n",
      "    totalPrice = 0\n",
      "    for rank in ranks:\n",
      "        totalPrice += ((maxRank - rank) / maxRank)\n",
      "    return totalPrice"
     ],
     "language": "python",
     "metadata": {},
     "outputs": [],
     "prompt_number": 4
    },
    {
     "cell_type": "code",
     "collapsed": false,
     "input": [
      "with open(\"../nameDict.dat\", \"rb\") as name_file:\n",
      "    nameDict = pickle.load(name_file)\n",
      "\n",
      "bitNames = getDictSubset(nameDict, lambda record: record.namespace() == \"d\")\n",
      "max_height = getMaxHeight(nameDict)"
     ],
     "language": "python",
     "metadata": {},
     "outputs": [],
     "prompt_number": 5
    },
    {
     "cell_type": "code",
     "collapsed": false,
     "input": [
      "dotBitAlexa = alexaRanks()\n",
      "dirtyWords = [word.strip() for word in open('dirty.txt', 'r') if \" \" not in word]\n",
      "dictWords = set([word.strip() for word in open('/usr/share/dict/words', 'r')])\n",
      "bitWordList = set([\"coin\", \"satoshi\", \"wallet\", \"crypto\", \"currency\", \"btc\", \"nmc\", \"blockchain\"])\n",
      "with open(\"name_lists/surnames.csv\", \"r\") as surnames_file:\n",
      "    reader = DictReader(surnames_file)\n",
      "    surnamesSet = set(line[\"name\"].lower() for line in reader)"
     ],
     "language": "python",
     "metadata": {},
     "outputs": [],
     "prompt_number": 6
    },
    {
     "cell_type": "code",
     "collapsed": false,
     "input": [
      "valueChangeRank = rankNumberOfValueChanges(bitNames, max_height)\n",
      "aliveRank = rankIsAlive(bitNames, max_height)\n",
      "validJSONRank = rankJSONDict(bitNames, max_height)\n",
      "validDNSRank = rankValidDNSDict(bitNames, max_height)\n",
      "timeActiveRank = rankByTimeActive(bitNames, max_height)\n",
      "jesusGapRank = rankByJesusGap(bitNames, max_height)"
     ],
     "language": "python",
     "metadata": {},
     "outputs": [],
     "prompt_number": 7
    },
    {
     "cell_type": "code",
     "collapsed": false,
     "input": [
      "maxRank = len(bitNames)\n",
      "nameList = bitNames.keys()"
     ],
     "language": "python",
     "metadata": {},
     "outputs": [],
     "prompt_number": 34
    },
    {
     "cell_type": "code",
     "collapsed": false,
     "input": [
      "yData = []\n",
      "# for name in nameList:\n",
      "#     yData.append(price([valueChangeRank[name],\n",
      "#                         aliveRank[name],\n",
      "#                         validJSONRank[name],\n",
      "#                         validDNSRank[name],\n",
      "#                         timeActiveRank[name],\n",
      "#                         jesusGapRank[name]\n",
      "#                         ], \n",
      "#                        maxRank))\n",
      "for name in nameList:\n",
      "    yData.append(price([\n",
      "                        timeActiveRank[name],\n",
      "                        jesusGapRank[name]\n",
      "                        ], \n",
      "                       maxRank))"
     ],
     "language": "python",
     "metadata": {},
     "outputs": [],
     "prompt_number": 44
    },
    {
     "cell_type": "code",
     "collapsed": false,
     "input": [
      "xData = []\n",
      "for name in nameList:\n",
      "    bigramFeatures = []\n",
      "    chars = 'abcdefghijklmnopqrstuvwxyz1234567890-'\n",
      "    bigramCounts = Counter(ngrams(name, 2))\n",
      "    for bigram in product(chars, chars):\n",
      "        bigramFeatures.append(bigramCounts[bigram])\n",
      "    xData.append(bigramFeatures)"
     ],
     "language": "python",
     "metadata": {},
     "outputs": [],
     "prompt_number": 38
    },
    {
     "cell_type": "code",
     "collapsed": false,
     "input": [
      "otherFeatures = []\n",
      "for name in nameList:\n",
      "    features = [\n",
      "        dotBitAlexa[name],                                                                  # alexaRank\n",
      "        int(len(wordnet.synsets(name[2:])) >= 1) + 1,                                       # inDict\n",
      "        int(any(dirtyWord in name.lower() for dirtyWord in dirtyWords)) + 1,                # inDirty\n",
      "        int(set(name[2:]).issubset(set(\"0123456789\"))) + 1,                                 # isNumber\n",
      "        len(name),                                                                          # length\n",
      "        int(any(word in name.lower() for word in bitWordList) or name.startswith(\"d/bit\")) + 1, # coinRelated\n",
      "        int(set(name[2:]).issubset(set(\"abcdefghijklmnopqrstuvwxyz\"))) + 1,\n",
      "        SegmentString().string_segments(name[2:])\n",
      "    ]\n",
      "    otherFeatures.append(features)"
     ],
     "language": "python",
     "metadata": {},
     "outputs": [],
     "prompt_number": 39
    },
    {
     "cell_type": "code",
     "collapsed": false,
     "input": [
      "fullXData = []\n",
      "for (gram, other) in zip(xData, otherFeatures):\n",
      "    fullXData.append(gram + other)"
     ],
     "language": "python",
     "metadata": {},
     "outputs": [],
     "prompt_number": 40
    },
    {
     "cell_type": "code",
     "collapsed": false,
     "input": [
      "from sklearn.linear_model import LinearRegression\n",
      "reg = LinearRegression()\n",
      "score = cross_val_score(reg, xData, yData, scoring='r2')\n",
      "print(score)"
     ],
     "language": "python",
     "metadata": {},
     "outputs": [
      {
       "output_type": "stream",
       "stream": "stdout",
       "text": [
        "[ 0.20004263  0.19565909  0.18128456]\n"
       ]
      }
     ],
     "prompt_number": 30
    },
    {
     "cell_type": "code",
     "collapsed": false,
     "input": [
      "from sklearn.linear_model import Ridge\n",
      "reg = Ridge()\n",
      "score = cross_val_score(reg, fullXData, yData, scoring='r2')\n",
      "print(score)"
     ],
     "language": "python",
     "metadata": {},
     "outputs": [
      {
       "output_type": "stream",
       "stream": "stdout",
       "text": [
        "[ 0.23901049  0.24016728  0.23189218]\n"
       ]
      }
     ],
     "prompt_number": 45
    },
    {
     "cell_type": "code",
     "collapsed": false,
     "input": [
      "gaps = []\n",
      "for name in nameList:\n",
      "    gaps.append(nameDict[name].reregistrationGap(max_height)/max_height)\n",
      "fig = plt.figure()\n",
      "ax = fig.add_subplot(111)\n",
      "ax.hist(gaps, bins=30)\n",
      "fig.show() "
     ],
     "language": "python",
     "metadata": {},
     "outputs": [
      {
       "output_type": "stream",
       "stream": "stderr",
       "text": [
        "/usr/local/lib/python3.4/site-packages/matplotlib/figure.py:387: UserWarning: matplotlib is currently using a non-GUI backend, so cannot show the figure\n",
        "  \"matplotlib is currently using a non-GUI backend, \"\n"
       ]
      },
      {
       "metadata": {},
       "output_type": "display_data",
       "png": "[encoded data removed]",
       "text": [
        "<matplotlib.figure.Figure at 0x10ccd9588>"
       ]
      }
     ],
     "prompt_number": 44
    },
    {
     "cell_type": "code",
     "collapsed": false,
     "input": [
      "activeTimes = []\n",
      "for name in nameList:\n",
      "    activeTimes.append(nameDict[name].fractionRegistered(max_height))\n",
      "fig = plt.figure()\n",
      "ax = fig.add_subplot(111)\n",
      "ax.hist(activeTimes, bins=30)\n",
      "fig.show()"
     ],
     "language": "python",
     "metadata": {},
     "outputs": [
      {
       "metadata": {},
       "output_type": "display_data",
       "png": "[encoded data removed]",
       "text": [
        "<matplotlib.figure.Figure at 0x10ed1f6d8>"
       ]
      }
     ],
     "prompt_number": 47
    },
    {
     "cell_type": "code",
     "collapsed": false,
     "input": [
      "from sklearn.linear_model import Ridge\n",
      "reg = Ridge()\n",
      "score = cross_val_score(reg, fullXData, activeTimes, scoring='r2')\n",
      "print(score)"
     ],
     "language": "python",
     "metadata": {},
     "outputs": [
      {
       "output_type": "stream",
       "stream": "stdout",
       "text": [
        "[ 0.32822354  0.32525623  0.25240045]\n"
       ]
      }
     ],
     "prompt_number": 41
    },
    {
     "cell_type": "code",
     "collapsed": false,
     "input": [
      "from sklearn.linear_model import Ridge\n",
      "reg = Ridge()\n",
      "score = cross_val_score(reg, fullXData, activeTimes, scoring='r2')\n",
      "print(score)"
     ],
     "language": "python",
     "metadata": {},
     "outputs": [
      {
       "output_type": "stream",
       "stream": "stdout",
       "text": [
        "[ 0.32822354  0.32525623  0.25240045]\n"
       ]
      }
     ],
     "prompt_number": 42
    },
    {
     "cell_type": "code",
     "collapsed": false,
     "input": [
      "from sklearn.linear_model import Ridge\n",
      "reg = Ridge()\n",
      "score = cross_val_score(reg, fullXData, gaps, scoring='r2')\n",
      "print(score)"
     ],
     "language": "python",
     "metadata": {},
     "outputs": [
      {
       "output_type": "stream",
       "stream": "stdout",
       "text": [
        "[ 0.20069512  0.19747043  0.16920986]\n"
       ]
      }
     ],
     "prompt_number": 45
    },
    {
     "cell_type": "code",
     "collapsed": false,
     "input": [],
     "language": "python",
     "metadata": {},
     "outputs": []
    }
   ],
   "metadata": {}
  }
 ]
}