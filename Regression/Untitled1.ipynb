{
 "metadata": {
  "name": "",
  "signature": "sha256:f36709bd8afd757e79296c0dd70484ad703ac8ee7c9e7283c0fafde45136895d"
 },
 "nbformat": 3,
 "nbformat_minor": 0,
 "worksheets": [
  {
   "cells": [
    {
     "cell_type": "code",
     "collapsed": false,
     "input": [
      "%matplotlib inline\n",
      "%load_ext autoreload\n",
      "%autoreload 2\n",
      "import pickle\n",
      "from nameHistory import getMaxHeight, latestValueDNSFields\n",
      "from common import getDictSubset, alexaRanks\n",
      "from csv import DictReader\n",
      "from nltk.corpus import wordnet\n",
      "\n",
      "from sklearn.linear_model import ElasticNet\n",
      "\n",
      "from sklearn.metrics import roc_auc_score as AUC\n",
      "from sklearn.cross_validation import train_test_split, cross_val_score\n",
      "from sklearn.feature_selection import SelectKBest\n",
      "from sklearn.feature_selection import f_regression\n",
      "\n",
      "from segment_string import SegmentString\n",
      "from collections import Counter\n",
      "from itertools import product\n",
      "from nltk.util import ngrams\n",
      "from nltk.stem.snowball import SnowballStemmer\n",
      "import math\n",
      "\n",
      "import matplotlib.pyplot as plt\n",
      "import matplotlib\n",
      "\n",
      "import numpy as np"
     ],
     "language": "python",
     "metadata": {},
     "outputs": [
      {
       "output_type": "stream",
       "stream": "stdout",
       "text": [
        "The autoreload extension is already loaded. To reload it, use:\n",
        "  %reload_ext autoreload\n"
       ]
      }
     ],
     "prompt_number": 79
    },
    {
     "cell_type": "code",
     "collapsed": false,
     "input": [
      "def rankByFunc(nameDict, nameRecordValue, higherIsBetter):\n",
      "    nameRawValues = {name:nameRecordValue(nameDict[name]) for name in nameDict}\n",
      "\n",
      "    nameRanks = {}\n",
      "\n",
      "    rank = 1\n",
      "\n",
      "    prevUpdates = None\n",
      "\n",
      "    for (name, value) in sorted(nameRawValues.items(), key=lambda x: x[1], reverse=higherIsBetter):\n",
      "        if prevUpdates and (value < prevUpdates) is higherIsBetter:\n",
      "            rank = len(nameRanks) + 1\n",
      "        prevUpdates = value\n",
      "        nameRanks[name] = rank\n",
      "    return nameRanks"
     ],
     "language": "python",
     "metadata": {},
     "outputs": [],
     "prompt_number": 2
    },
    {
     "cell_type": "code",
     "collapsed": false,
     "input": [
      "def rankNumberOfValueChanges(nameDict, max_height):\n",
      "    return rankByFunc(nameDict, lambda record: record.numberOfValueChanges(), True)\n",
      "\n",
      "def rankIsAlive(nameDict, maxHeight):\n",
      "    return rankByFunc(nameDict, lambda record: int(record.isValidAtHeight(maxHeight)), True)\n",
      "\n",
      "def rankJSONDict(nameDict, maxHeight):\n",
      "    return rankByFunc(nameDict,\n",
      "               lambda record: int(record.latestValueJsonDict() is not None),\n",
      "               True)\n",
      "\n",
      "def rankValidDNSDict(nameDict, max_height):\n",
      "    return rankByFunc(nameDict,\n",
      "               lambda record: int(len(latestValueDNSFields(record, nameDict)) > 0),\n",
      "               True)\n",
      "\n",
      "def rankByTimeActive(nameDict, maxHeight):\n",
      "    return rankByFunc(nameDict,\n",
      "                      lambda record: record.fractionRegistered(maxHeight),\n",
      "                      True)\n",
      "\n",
      "def rankByJesusGap(nameDict, maxHeight):\n",
      "    return rankByFunc(nameDict,\n",
      "                      lambda record: record.reregistrationGap(maxHeight),\n",
      "                      False)"
     ],
     "language": "python",
     "metadata": {},
     "outputs": [],
     "prompt_number": 3
    },
    {
     "cell_type": "code",
     "collapsed": false,
     "input": [
      "def price(ranks, maxRank):\n",
      "    totalPrice = 0\n",
      "    for rank in ranks:\n",
      "        totalPrice += ((maxRank - rank) / maxRank)\n",
      "    return totalPrice"
     ],
     "language": "python",
     "metadata": {},
     "outputs": [],
     "prompt_number": 4
    },
    {
     "cell_type": "code",
     "collapsed": false,
     "input": [
      "wordset = np.genfromtxt('ANC-written-count.txt', dtype=None)\n",
      "stemmer = SnowballStemmer(\"english\")\n",
      "def wordRank(word):\n",
      "    return np.sum(wordset[wordset['f1'] == bytes(stemmer.stem(word), 'utf-8')]['f3'])"
     ],
     "language": "python",
     "metadata": {},
     "outputs": [],
     "prompt_number": 86
    },
    {
     "cell_type": "code",
     "collapsed": false,
     "input": [
      "wordRank(\"running\")"
     ],
     "language": "python",
     "metadata": {},
     "outputs": [
      {
       "metadata": {},
       "output_type": "pyout",
       "prompt_number": 91,
       "text": [
        "8940"
       ]
      }
     ],
     "prompt_number": 91
    },
    {
     "cell_type": "code",
     "collapsed": false,
     "input": [
      "with open(\"../nameDict.dat\", \"rb\") as name_file:\n",
      "    nameDict = pickle.load(name_file)\n",
      "\n",
      "bitNames = getDictSubset(nameDict, lambda record: record.namespace() == \"d\")\n",
      "max_height = getMaxHeight(nameDict)"
     ],
     "language": "python",
     "metadata": {},
     "outputs": [],
     "prompt_number": 5
    },
    {
     "cell_type": "code",
     "collapsed": false,
     "input": [
      "dotBitAlexa = alexaRanks()\n",
      "dirtyWords = [word.strip() for word in open('dirty.txt', 'r') if \" \" not in word]\n",
      "dictWords = set([word.strip() for word in open('/usr/share/dict/words', 'r')])\n",
      "bitWordList = set([\"coin\", \"satoshi\", \"wallet\", \"crypto\", \"currency\", \"btc\", \"nmc\", \"blockchain\"])\n",
      "with open(\"name_lists/surnames.csv\", \"r\") as surnames_file:\n",
      "    reader = DictReader(surnames_file)\n",
      "    surnamesSet = set(line[\"name\"].lower() for line in reader)"
     ],
     "language": "python",
     "metadata": {},
     "outputs": [],
     "prompt_number": 32
    },
    {
     "cell_type": "code",
     "collapsed": false,
     "input": [
      "valueChangeRank = rankNumberOfValueChanges(bitNames, max_height)\n",
      "aliveRank = rankIsAlive(bitNames, max_height)\n",
      "validJSONRank = rankJSONDict(bitNames, max_height)\n",
      "validDNSRank = rankValidDNSDict(bitNames, max_height)\n",
      "timeActiveRank = rankByTimeActive(bitNames, max_height)\n",
      "jesusGapRank = rankByJesusGap(bitNames, max_height)"
     ],
     "language": "python",
     "metadata": {},
     "outputs": [],
     "prompt_number": 7
    },
    {
     "cell_type": "code",
     "collapsed": false,
     "input": [
      "maxRank = len(bitNames)\n",
      "nameList = bitNames.keys()"
     ],
     "language": "python",
     "metadata": {},
     "outputs": [],
     "prompt_number": 6
    },
    {
     "cell_type": "code",
     "collapsed": false,
     "input": [
      "yData = []\n",
      "# for name in nameList:\n",
      "#     yData.append(price([valueChangeRank[name],\n",
      "#                         aliveRank[name],\n",
      "#                         validJSONRank[name],\n",
      "#                         validDNSRank[name],\n",
      "#                         timeActiveRank[name],\n",
      "#                         jesusGapRank[name]\n",
      "#                         ], \n",
      "#                        maxRank))\n",
      "for name in nameList:\n",
      "    yData.append(price([\n",
      "                        timeActiveRank[name],\n",
      "                        jesusGapRank[name]\n",
      "                        ], \n",
      "                       maxRank))"
     ],
     "language": "python",
     "metadata": {},
     "outputs": [],
     "prompt_number": 44
    },
    {
     "cell_type": "code",
     "collapsed": false,
     "input": [
      "xData = []\n",
      "for name in nameList:\n",
      "    bigramFeatures = []\n",
      "    chars = 'abcdefghijklmnopqrstuvwxyz1234567890-'\n",
      "    bigramCounts = Counter(ngrams(name, 2))\n",
      "    for bigram in product(chars, chars):\n",
      "        bigramFeatures.append(bigramCounts[bigram])\n",
      "    xData.append(bigramFeatures)"
     ],
     "language": "python",
     "metadata": {},
     "outputs": [],
     "prompt_number": 30
    },
    {
     "cell_type": "code",
     "collapsed": false,
     "input": [
      "otherFeatures = []\n",
      "for name in nameList:\n",
      "    segments = SegmentString().string_segments(name[2:])\n",
      "    if segments == 0:\n",
      "        segements = 10\n",
      "    features = [\n",
      "        dotBitAlexa[name],                                                                  # alexaRank\n",
      "        wordRank(name),                                                                     # wordRank\n",
      "        int(any(dirtyWord in name.lower() for dirtyWord in dirtyWords)) + 1,                # inDirty\n",
      "        int(set(name[2:]).issubset(set(\"0123456789\"))) + 1,                                 # isNumber\n",
      "        len(name),                                                                          # length\n",
      "        int(any(word in name.lower() for word in bitWordList) or name.startswith(\"d/bit\")) + 1, # coinRelated\n",
      "        int(set(name[2:]).issubset(set(\"abcdefghijklmnopqrstuvwxyz\"))) + 1,\n",
      "        segments\n",
      "    ]\n",
      "    otherFeatures.append(features)"
     ],
     "language": "python",
     "metadata": {},
     "outputs": [
      {
       "ename": "KeyboardInterrupt",
       "evalue": "",
       "output_type": "pyerr",
       "traceback": [
        "\u001b[0;31m---------------------------------------------------------------------------\u001b[0m\n\u001b[0;31mKeyboardInterrupt\u001b[0m                         Traceback (most recent call last)",
        "\u001b[0;32m<ipython-input-92-f8732c5d567d>\u001b[0m in \u001b[0;36m<module>\u001b[0;34m()\u001b[0m\n\u001b[1;32m      6\u001b[0m     features = [\n\u001b[1;32m      7\u001b[0m         \u001b[0mdotBitAlexa\u001b[0m\u001b[0;34m[\u001b[0m\u001b[0mname\u001b[0m\u001b[0;34m]\u001b[0m\u001b[0;34m,\u001b[0m                                                                  \u001b[0;31m# alexaRank\u001b[0m\u001b[0;34m\u001b[0m\u001b[0m\n\u001b[0;32m----> 8\u001b[0;31m         \u001b[0mwordRank\u001b[0m\u001b[0;34m(\u001b[0m\u001b[0mname\u001b[0m\u001b[0;34m)\u001b[0m\u001b[0;34m,\u001b[0m                                                                     \u001b[0;31m# wordRank\u001b[0m\u001b[0;34m\u001b[0m\u001b[0m\n\u001b[0m\u001b[1;32m      9\u001b[0m         \u001b[0mint\u001b[0m\u001b[0;34m(\u001b[0m\u001b[0many\u001b[0m\u001b[0;34m(\u001b[0m\u001b[0mdirtyWord\u001b[0m \u001b[0;32min\u001b[0m \u001b[0mname\u001b[0m\u001b[0;34m.\u001b[0m\u001b[0mlower\u001b[0m\u001b[0;34m(\u001b[0m\u001b[0;34m)\u001b[0m \u001b[0;32mfor\u001b[0m \u001b[0mdirtyWord\u001b[0m \u001b[0;32min\u001b[0m \u001b[0mdirtyWords\u001b[0m\u001b[0;34m)\u001b[0m\u001b[0;34m)\u001b[0m \u001b[0;34m+\u001b[0m \u001b[0;36m1\u001b[0m\u001b[0;34m,\u001b[0m                \u001b[0;31m# inDirty\u001b[0m\u001b[0;34m\u001b[0m\u001b[0m\n\u001b[1;32m     10\u001b[0m         \u001b[0mint\u001b[0m\u001b[0;34m(\u001b[0m\u001b[0mset\u001b[0m\u001b[0;34m(\u001b[0m\u001b[0mname\u001b[0m\u001b[0;34m[\u001b[0m\u001b[0;36m2\u001b[0m\u001b[0;34m:\u001b[0m\u001b[0;34m]\u001b[0m\u001b[0;34m)\u001b[0m\u001b[0;34m.\u001b[0m\u001b[0missubset\u001b[0m\u001b[0;34m(\u001b[0m\u001b[0mset\u001b[0m\u001b[0;34m(\u001b[0m\u001b[0;34m\"0123456789\"\u001b[0m\u001b[0;34m)\u001b[0m\u001b[0;34m)\u001b[0m\u001b[0;34m)\u001b[0m \u001b[0;34m+\u001b[0m \u001b[0;36m1\u001b[0m\u001b[0;34m,\u001b[0m                                 \u001b[0;31m# isNumber\u001b[0m\u001b[0;34m\u001b[0m\u001b[0m\n",
        "\u001b[0;32m<ipython-input-86-cde203c3433c>\u001b[0m in \u001b[0;36mwordRank\u001b[0;34m(word)\u001b[0m\n\u001b[1;32m      2\u001b[0m \u001b[0mstemmer\u001b[0m \u001b[0;34m=\u001b[0m \u001b[0mSnowballStemmer\u001b[0m\u001b[0;34m(\u001b[0m\u001b[0;34m\"english\"\u001b[0m\u001b[0;34m)\u001b[0m\u001b[0;34m\u001b[0m\u001b[0m\n\u001b[1;32m      3\u001b[0m \u001b[0;32mdef\u001b[0m \u001b[0mwordRank\u001b[0m\u001b[0;34m(\u001b[0m\u001b[0mword\u001b[0m\u001b[0;34m)\u001b[0m\u001b[0;34m:\u001b[0m\u001b[0;34m\u001b[0m\u001b[0m\n\u001b[0;32m----> 4\u001b[0;31m     \u001b[0;32mreturn\u001b[0m \u001b[0mnp\u001b[0m\u001b[0;34m.\u001b[0m\u001b[0msum\u001b[0m\u001b[0;34m(\u001b[0m\u001b[0mwordset\u001b[0m\u001b[0;34m[\u001b[0m\u001b[0mwordset\u001b[0m\u001b[0;34m[\u001b[0m\u001b[0;34m'f1'\u001b[0m\u001b[0;34m]\u001b[0m \u001b[0;34m==\u001b[0m \u001b[0mbytes\u001b[0m\u001b[0;34m(\u001b[0m\u001b[0mstemmer\u001b[0m\u001b[0;34m.\u001b[0m\u001b[0mstem\u001b[0m\u001b[0;34m(\u001b[0m\u001b[0mword\u001b[0m\u001b[0;34m)\u001b[0m\u001b[0;34m,\u001b[0m \u001b[0;34m'utf-8'\u001b[0m\u001b[0;34m)\u001b[0m\u001b[0;34m]\u001b[0m\u001b[0;34m[\u001b[0m\u001b[0;34m'f3'\u001b[0m\u001b[0;34m]\u001b[0m\u001b[0;34m)\u001b[0m\u001b[0;34m\u001b[0m\u001b[0m\n\u001b[0m",
        "\u001b[0;31mKeyboardInterrupt\u001b[0m: "
       ]
      }
     ],
     "prompt_number": 92
    },
    {
     "cell_type": "code",
     "collapsed": false,
     "input": [
      "xData[0]"
     ],
     "language": "python",
     "metadata": {},
     "outputs": []
    },
    {
     "cell_type": "code",
     "collapsed": false,
     "input": [
      "for data in xData:\n",
      "    del data[len(chars)**2:]\n",
      "for (gram, other) in zip(xData, otherFeatures):\n",
      "    gram.extend(other)"
     ],
     "language": "python",
     "metadata": {},
     "outputs": [],
     "prompt_number": 34
    },
    {
     "cell_type": "code",
     "collapsed": false,
     "input": [
      "from sklearn.linear_model import LinearRegression\n",
      "reg = LinearRegression()\n",
      "score = cross_val_score(reg, xData, yData, scoring='r2')\n",
      "print(score)"
     ],
     "language": "python",
     "metadata": {},
     "outputs": [
      {
       "output_type": "stream",
       "stream": "stdout",
       "text": [
        "[ 0.20004263  0.19565909  0.18128456]\n"
       ]
      }
     ],
     "prompt_number": 30
    },
    {
     "cell_type": "code",
     "collapsed": false,
     "input": [
      "from sklearn.linear_model import Ridge\n",
      "reg = Ridge()\n",
      "score = cross_val_score(reg, fullXData, yData, scoring='r2')\n",
      "print(score)"
     ],
     "language": "python",
     "metadata": {},
     "outputs": [
      {
       "output_type": "stream",
       "stream": "stdout",
       "text": [
        "[ 0.23901049  0.24016728  0.23189218]\n"
       ]
      }
     ],
     "prompt_number": 45
    },
    {
     "cell_type": "code",
     "collapsed": false,
     "input": [
      "gaps = []\n",
      "for name in nameList:\n",
      "    gaps.append(nameDict[name].reregistrationGap(max_height)/max_height)\n",
      "fig = plt.figure()\n",
      "ax = fig.add_subplot(111)\n",
      "ax.hist(gaps, bins=30)\n",
      "fig.show() "
     ],
     "language": "python",
     "metadata": {},
     "outputs": [
      {
       "metadata": {},
       "output_type": "display_data",
       "png": "[encoded data removed]",
       "text": [
        "<matplotlib.figure.Figure at 0x115a6b898>"
       ]
      }
     ],
     "prompt_number": 11
    },
    {
     "cell_type": "code",
     "collapsed": false,
     "input": [
      "expiredTimes = []\n",
      "for name in nameList:\n",
      "    expiredTimes.append(nameDict[name].fractionExpired(max_height))\n",
      "fig = plt.figure()\n",
      "ax = fig.add_subplot(111)\n",
      "ax.hist(expiredTimes, bins=30)\n",
      "fig.show()"
     ],
     "language": "python",
     "metadata": {},
     "outputs": [
      {
       "metadata": {},
       "output_type": "display_data",
       "png": "[encoded data removed]",
       "text": [
        "<matplotlib.figure.Figure at 0x115c57a58>"
       ]
      }
     ],
     "prompt_number": 13
    },
    {
     "cell_type": "code",
     "collapsed": false,
     "input": [
      "sessionCounts = []\n",
      "for name in nameList:\n",
      "    sessionCounts.append((len(nameDict[name].sessions) / 6) ** .2)\n",
      "fig = plt.figure()\n",
      "ax = fig.add_subplot(111)\n",
      "ax.hist(sessionCounts, bins=30)\n",
      "fig.show()"
     ],
     "language": "python",
     "metadata": {},
     "outputs": [
      {
       "metadata": {},
       "output_type": "display_data",
       "png": "[encoded data removed]",
       "text": [
        "<matplotlib.figure.Figure at 0x116604d68>"
       ]
      }
     ],
     "prompt_number": 58
    },
    {
     "cell_type": "code",
     "collapsed": false,
     "input": [
      "activeTimes = []\n",
      "for name in nameList:\n",
      "    activeTimes.append(nameDict[name].fractionRegistered(max_height))\n",
      "fig = plt.figure()\n",
      "ax = fig.add_subplot(111)\n",
      "ax.hist(activeTimes, bins=30)\n",
      "fig.show()"
     ],
     "language": "python",
     "metadata": {},
     "outputs": [
      {
       "metadata": {},
       "output_type": "display_data",
       "png": "[encoded data removed]",
       "text": [
        "<matplotlib.figure.Figure at 0x1155d8ac8>"
       ]
      }
     ],
     "prompt_number": 12
    },
    {
     "cell_type": "code",
     "collapsed": false,
     "input": [
      "fig = plt.figure()\n",
      "ax = fig.add_subplot(111)\n",
      "scores = []\n",
      "for (activeTime, gap, expiredTime, sessionCount) in zip(activeTimes, gaps, expiredTimes, sessionCounts):\n",
      "    scores.append(((1 - gap) * activeTime * (1 - expiredTime)))\n",
      "ax.hist(scores, bins=30, color = \"#9ebcda\")\n",
      "plt.ylabel(r\"\\textbf{Number of names}\")\n",
      "plt.xlabel(r\"\\textbf{Value}\")\n",
      "matplotlib.rc('font', serif='Helvetica Neue') \n",
      "matplotlib.rc('text', usetex='true') \n",
      "matplotlib.rcParams.update({'font.size': 16})\n",
      "matplotlib.rcParams.update({'figure.autolayout': True})\n",
      "# fig.show()\n",
      "plt.savefig(\"value_histogram.eps\")"
     ],
     "language": "python",
     "metadata": {},
     "outputs": [
      {
       "metadata": {},
       "output_type": "display_data",
       "png": "[encoded data removed]",
       "text": [
        "<matplotlib.figure.Figure at 0x11db4e470>"
       ]
      }
     ],
     "prompt_number": 77
    },
    {
     "cell_type": "code",
     "collapsed": false,
     "input": [
      "from sklearn.linear_model import Ridge\n",
      "reg = Ridge()\n",
      "score = cross_val_score(reg, fullXData, activeTimes, scoring='r2')\n",
      "print(score)"
     ],
     "language": "python",
     "metadata": {},
     "outputs": [
      {
       "output_type": "stream",
       "stream": "stdout",
       "text": [
        "[ 0.32822354  0.32525623  0.25240045]\n"
       ]
      }
     ],
     "prompt_number": 41
    },
    {
     "cell_type": "code",
     "collapsed": false,
     "input": [
      "from sklearn.linear_model import Ridge\n",
      "reg = Ridge()\n",
      "score = cross_val_score(reg, xData, activeTimes, scoring='r2')\n",
      "print(score)"
     ],
     "language": "python",
     "metadata": {},
     "outputs": [
      {
       "output_type": "stream",
       "stream": "stdout",
       "text": [
        "[ 0.23215966  0.31957479  0.32678676]\n"
       ]
      }
     ],
     "prompt_number": 37
    },
    {
     "cell_type": "code",
     "collapsed": false,
     "input": [
      "from sklearn.linear_model import Ridge\n",
      "reg = Ridge()\n",
      "score = cross_val_score(reg, xData, scores, scoring='r2')\n",
      "print(score)"
     ],
     "language": "python",
     "metadata": {},
     "outputs": [
      {
       "output_type": "stream",
       "stream": "stdout",
       "text": [
        "[ 0.27173478  0.32087221  0.32662083]\n"
       ]
      }
     ],
     "prompt_number": 39
    },
    {
     "cell_type": "code",
     "collapsed": false,
     "input": [
      "from sklearn.linear_model import Ridge\n",
      "reg = Ridge()\n",
      "score = cross_val_score(reg, xData, scores, scoring='r2')\n",
      "print(score)"
     ],
     "language": "python",
     "metadata": {},
     "outputs": [
      {
       "output_type": "stream",
       "stream": "stdout",
       "text": [
        "[ 0.27839911  0.31328497  0.32049306]\n"
       ]
      }
     ],
     "prompt_number": 62
    },
    {
     "cell_type": "code",
     "collapsed": false,
     "input": [],
     "language": "python",
     "metadata": {},
     "outputs": []
    }
   ],
   "metadata": {}
  }
 ]
}